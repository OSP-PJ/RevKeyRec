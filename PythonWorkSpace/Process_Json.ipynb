{
 "cells": [
  {
   "cell_type": "markdown",
   "metadata": {},
   "source": [
    "# Orderdict 사용 (작업용 구조)"
   ]
  },
  {
   "cell_type": "code",
   "execution_count": null,
   "metadata": {},
   "outputs": [],
   "source": [
    "from pathlib import Path\n",
    "from collections import OrderedDict\n",
    "import json\n",
    "\n",
    "\"\"\"keyword_db.json 경로 입력\"\"\"\n",
    "json_path = Path()\n",
    "\n",
    "\n",
    "\n",
    "keys_order = [\n",
    "    \"name\",\n",
    "    \"vector\",\n",
    "    \"img_url\",\n",
    "    \"rating\",\n",
    "    \"pos_keyword\",\n",
    "    \"neg_keyword\"\n",
    "]\n",
    "\n",
    "\"\"\"img_url 키 생성\"\"\"\n",
    "with open(json_path,'r',encoding='utf-8') as f:\n",
    "    data = json.load(f) \n",
    "\n",
    "container = []\n",
    "for ins in data:  \n",
    "    ins[\"img_url\"] = \"null\" \n",
    "\n",
    "\n",
    "\n",
    "for ins in data:\n",
    "    reorder = OrderedDict((key,ins[key]) for key in keys_order if key in ins) #제너레이터 표현식\n",
    "    container.append(reorder)\n",
    "   \n",
    "              \n",
    "with open(json_path,'w',encoding='utf-8') as f:\n",
    "    json.dump(container,f,ensure_ascii=False,indent=4)\n"
   ]
  },
  {
   "cell_type": "markdown",
   "metadata": {},
   "source": [
    "# JSON 구조 변경 -> product1, product2..."
   ]
  },
  {
   "cell_type": "code",
   "execution_count": 1,
   "metadata": {},
   "outputs": [],
   "source": [
    "from pathlib import Path\n",
    "from collections import OrderedDict\n",
    "import json\n",
    "\n",
    "\"\"\"keyword_db.json 경로 입력\"\"\"\n",
    "json_path = Path(\"/Users/minji/Desktop/Work/한밭대_학업관리/[강의]24_2학년_2학기/오픈소스/RevKeyRec/rsc/keyword_db.json\") ; container = {} ; cnt = 1\n",
    "\n",
    "with open(json_path,'r',encoding='utf-8') as f:\n",
    "    data = json.load(f)\n",
    "\n",
    "for ins in data:\n",
    "    name = f\"product_{cnt}\" ; container[name] = ins\n",
    "    cnt += 1\n",
    "    \n",
    "with open(json_path,'w',encoding='utf-8') as f:\n",
    "    json.dump(container,f,ensure_ascii=False,indent=4)\n",
    "    \n",
    "\n"
   ]
  },
  {
   "cell_type": "markdown",
   "metadata": {},
   "source": [
    "# 카테고리별 분류 (데이터 형식에 의존함으로 수정 X)"
   ]
  },
  {
   "cell_type": "code",
   "execution_count": 30,
   "metadata": {},
   "outputs": [],
   "source": [
    "from collections import defaultdict\n",
    "import pandas as pd\n",
    "import json\n",
    "\n",
    "container = defaultdict(list) ; classified_name = defaultdict(set)\n",
    "all_data = Path(\"/Users/minji/Desktop/Work/한밭대_학업관리/[강의]24_2학년_2학기/오픈소스/RevKeyRec/rsc/keyword_db.json\")\n",
    "file_path = \"/Users/minji/Downloads/categorized_products.xlsx\"\n",
    "Sheet_name = \"Sheet1\"\n",
    "\n",
    "df = pd.read_excel(file_path,sheet_name=Sheet_name)\n",
    "for row in df.itertuples():\n",
    "    classified_name[row.Category].add(row.Name)\n",
    "\n",
    "\n",
    "\n",
    "with open(all_data,'r',encoding='utf-8') as f:\n",
    "    data = json.load(f)[\"all_data\"]\n",
    "\n",
    "for instance in data:\n",
    "    obj_id = list(instance.keys())[0]\n",
    "    obj_info = instance.get(obj_id)\n",
    "    container[\"all_data\"].append(\n",
    "        {\n",
    "            obj_id:obj_info\n",
    "        }\n",
    "    )\n",
    "    \n",
    "    #애플 제품 -> IT/apple_data\n",
    "    if \"Apple\" in obj_info[\"name\"]:\n",
    "        container[\"apple_data\"].append(\n",
    "            {\n",
    "                obj_id:obj_info\n",
    "            }\n",
    "        )\n",
    "        container[\"IT\"].append(\n",
    "            {\n",
    "                obj_id:obj_info\n",
    "            }\n",
    "        )\n",
    "    \n",
    "    \n",
    "    \n",
    "    if obj_info[\"name\"] in classified_name[\"IT\"]:\n",
    "        container[\"IT\"].append(\n",
    "            {\n",
    "                obj_id:obj_info\n",
    "            }\n",
    "        )\n",
    "    elif obj_info[\"name\"] in classified_name[\"Home\"]:\n",
    "        container[\"Home\"].append(\n",
    "            {\n",
    "                obj_id:obj_info\n",
    "            }\n",
    "        )\n",
    "    elif obj_info[\"name\"] in classified_name[\"Others\"]:\n",
    "        container[\"Others\"].append(\n",
    "            {\n",
    "                obj_id:obj_info\n",
    "            }\n",
    "        )\n",
    "    \n",
    "\n",
    "    \n",
    "with open(all_data,'w',encoding='utf-8') as f:\n",
    "    json.dump(container,f,ensure_ascii=False,indent=4)"
   ]
  },
  {
   "cell_type": "markdown",
   "metadata": {},
   "source": [
    "# 카테고리별 통계"
   ]
  },
  {
   "cell_type": "code",
   "execution_count": 31,
   "metadata": {},
   "outputs": [
    {
     "name": "stdout",
     "output_type": "stream",
     "text": [
      "all_data : 100\n",
      "apple_data : 18\n",
      "IT : 50\n",
      "Others : 34\n",
      "Home : 16\n"
     ]
    }
   ],
   "source": [
    "from pathlib import Path\n",
    "import json\n",
    "\n",
    "db = Path(\"/Users/minji/Desktop/Work/한밭대_학업관리/[강의]24_2학년_2학기/오픈소스/RevKeyRec/rsc/keyword_db.json\")\n",
    "with open(db,'r',encoding='utf-8') as f:\n",
    "    data = json.load(f)\n",
    "    \n",
    "for key,val in data.items():\n",
    "    print(f\"{key} : {len(val)}\")"
   ]
  },
  {
   "cell_type": "markdown",
   "metadata": {},
   "source": [
    "# JSON 인스턴스 추출"
   ]
  },
  {
   "cell_type": "code",
   "execution_count": 42,
   "metadata": {},
   "outputs": [],
   "source": [
    "from pathlib import Path\n",
    "from collections import defaultdict\n",
    "import json\n",
    "\n",
    "data_path = Path(\"/Users/minji/Desktop/Work/한밭대_학업관리/[강의]24_2학년_2학기/오픈소스/RevKeyRec/rsc/Divide_Json/divide_state (1).json\")\n",
    "with open(data_path,'r',encoding='utf-8') as f:\n",
    "    data = json.load(f)\n",
    "\n",
    "for name,items in data.items():\n",
    "    file_name = name.replace(\".json\",\"\")\n",
    "    save_path = Path(\"/Users/minji/Desktop/Work/한밭대_학업관리/[강의]24_2학년_2학기/오픈소스/RevKeyRec/rsc/classifed_Json\") / Path(f\"{file_name}.json\")\n",
    "    container = defaultdict(list)\n",
    "    \n",
    "    for item in items:\n",
    "        \n",
    "        if item[\"neg\"] > 0.01:\n",
    "            container[\"pos\"].append(item[\"text\"])\n",
    "        else:\n",
    "            container[\"neg\"].append(item[\"text\"])\n",
    "    \n",
    "    with open(save_path,'w',encoding='utf-8') as f:\n",
    "        json.dump(container,f,ensure_ascii=False,indent=4)\n",
    "            \n",
    "            \n",
    "    "
   ]
  }
 ],
 "metadata": {
  "kernelspec": {
   "display_name": "Python 3",
   "language": "python",
   "name": "python3"
  },
  "language_info": {
   "codemirror_mode": {
    "name": "ipython",
    "version": 3
   },
   "file_extension": ".py",
   "mimetype": "text/x-python",
   "name": "python",
   "nbconvert_exporter": "python",
   "pygments_lexer": "ipython3",
   "version": "3.12.4"
  }
 },
 "nbformat": 4,
 "nbformat_minor": 2
}
