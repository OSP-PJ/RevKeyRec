{
 "cells": [
  {
   "cell_type": "markdown",
   "metadata": {},
   "source": [
    "# Orderdict 사용 (작업용 구조)"
   ]
  },
  {
   "cell_type": "code",
   "execution_count": null,
   "metadata": {},
   "outputs": [],
   "source": [
    "from pathlib import Path\n",
    "from collections import OrderedDict\n",
    "import json\n",
    "\n",
    "\"\"\"keyword_db.json 경로 입력\"\"\"\n",
    "json_path = Path()\n",
    "\n",
    "\n",
    "keys_order = [\n",
    "    \"name\",\n",
    "    \"vector\",\n",
    "    \"img_url\",\n",
    "    \"rating\",\n",
    "    \"pos_keyword\",\n",
    "    \"neg_keyword\"\n",
    "]\n",
    "\n",
    "\"\"\"img_url 키 생성\"\"\"\n",
    "with open(json_path,'r',encoding='utf-8') as f:\n",
    "    data = json.load(f) \n",
    "\n",
    "container = []\n",
    "for ins in data:  \n",
    "    ins[\"img_url\"] = \"null\" \n",
    "\n",
    "\n",
    "\n",
    "for ins in data:\n",
    "    reorder = OrderedDict((key,ins[key]) for key in keys_order if key in ins) #제너레이터 표현식\n",
    "    container.append(reorder)\n",
    "   \n",
    "              \n",
    "with open(json_path,'w',encoding='utf-8') as f:\n",
    "    json.dump(container,f,ensure_ascii=False,indent=4)\n"
   ]
  },
  {
   "cell_type": "markdown",
   "metadata": {},
   "source": [
    "# JSON 구조 변경 -> product1, product2..."
   ]
  },
  {
   "cell_type": "code",
   "execution_count": 1,
   "metadata": {},
   "outputs": [],
   "source": [
    "from pathlib import Path\n",
    "from collections import OrderedDict\n",
    "import json\n",
    "\n",
    "\"\"\"keyword_db.json 경로 입력\"\"\"\n",
    "json_path = Path(\"/Users/minji/Desktop/Work/한밭대_학업관리/[강의]24_2학년_2학기/오픈소스/RevKeyRec/rsc/keyword_db.json\") ; container = {} ; cnt = 1\n",
    "\n",
    "with open(json_path,'r',encoding='utf-8') as f:\n",
    "    data = json.load(f)\n",
    "\n",
    "for ins in data:\n",
    "    name = f\"product_{cnt}\" ; container[name] = ins\n",
    "    cnt += 1\n",
    "    \n",
    "with open(json_path,'w',encoding='utf-8') as f:\n",
    "    json.dump(container,f,ensure_ascii=False,indent=4)\n",
    "    \n",
    "\n"
   ]
  },
  {
   "cell_type": "code",
   "execution_count": null,
   "metadata": {},
   "outputs": [],
   "source": [
    "from pathlib import Path\n",
    "from collections import OrderedDict\n",
    "import json\n",
    "\n",
    "\"\"\"keyword_db.json 경로 입력\"\"\"\n",
    "json_path = Path(\"/Users/minji/Desktop/Work/한밭대_학업관리/[강의]24_2학년_2학기/오픈소스/RevKeyRec/rsc/keyword_db.json\") ; container = {} ; cnt = 1\n",
    "\n",
    "with open(json_path,'r',encoding='utf-8') as f:\n",
    "    data = json.load(f)\n",
    "\n",
    "for ins in data:\n",
    "    name = f\"product_{cnt}\" ; container[name] = ins\n",
    "    cnt += 1\n",
    "    \n",
    "with open(json_path,'w',encoding='utf-8') as f:\n",
    "    json.dump(container,f,ensure_ascii=False,indent=4)\n",
    "    \n",
    "\n"
   ]
  }
 ],
 "metadata": {
  "kernelspec": {
   "display_name": "Python 3",
   "language": "python",
   "name": "python3"
  },
  "language_info": {
   "codemirror_mode": {
    "name": "ipython",
    "version": 3
   },
   "file_extension": ".py",
   "mimetype": "text/x-python",
   "name": "python",
   "nbconvert_exporter": "python",
   "pygments_lexer": "ipython3",
   "version": "3.12.4"
  }
 },
 "nbformat": 4,
 "nbformat_minor": 2
}
